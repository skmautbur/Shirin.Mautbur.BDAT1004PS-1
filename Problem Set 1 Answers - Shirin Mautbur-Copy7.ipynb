{
 "cells": [
  {
   "cell_type": "code",
   "execution_count": null,
   "id": "2ec0dfa3",
   "metadata": {},
   "outputs": [],
   "source": [
    "#PROBLEM SET 1, Submitted by Shirin Mautbur (Student #: 200591440), Class: BDAT 1004-02"
   ]
  },
  {
   "cell_type": "code",
   "execution_count": null,
   "id": "202073f9",
   "metadata": {},
   "outputs": [],
   "source": [
    "#Question 1:"
   ]
  },
  {
   "cell_type": "code",
   "execution_count": null,
   "id": "4f0349b8",
   "metadata": {},
   "outputs": [],
   "source": [
    "#Data types are shown and evaluated if applicable :\n",
    "    \n",
    "5: Expression (integer)\n",
    "5.0: Expression (float)\n",
    "5 > 1: Expression (boolean) that evaluates to TRUE\n",
    "'5': String\n",
    "5 * 2: Expression (integer) that evaluates to 10\n",
    "'5'* 2: String data type being manipulated, and evaluates to '55'\n",
    "'5' + '2': String data types being manipulated and evaluates to '52'\n",
    "5 / 2: Expression (integer) that evaluates to 2\n",
    "5 % 2: Expression (integer) that evaluates to 1\n",
    "{5,2,1}: Set Expression (See \"Intro to Computing using Python, Perkoviv, p. 177) \n",
    "5 == 3: Expression (boolean) evaluates to FALSE\n",
    "Pi (the number): A constant in the Math Module. It evaluates to: 3.141592653589793"
   ]
  },
  {
   "cell_type": "code",
   "execution_count": null,
   "id": "889ebf98",
   "metadata": {},
   "outputs": [],
   "source": [
    "#Question 2a: "
   ]
  },
  {
   "cell_type": "code",
   "execution_count": 2,
   "id": "c9a25e18",
   "metadata": {},
   "outputs": [
    {
     "name": "stdout",
     "output_type": "stream",
     "text": [
      "The length of Supercalifragilisticexpialidocious is:\n",
      "34\n"
     ]
    }
   ],
   "source": [
    "#(2a) Number of letters in 'Supercalifragilisticexpialidocious'\n",
    "mystring='Supercalifragilisticexpialidocious'\n",
    "print('The length of Supercalifragilisticexpialidocious is:')\n",
    "print(len(mystring))"
   ]
  },
  {
   "cell_type": "code",
   "execution_count": null,
   "id": "af704cb5",
   "metadata": {},
   "outputs": [],
   "source": [
    "#Question 2b: "
   ]
  },
  {
   "cell_type": "code",
   "execution_count": 3,
   "id": "b97b7796",
   "metadata": {},
   "outputs": [
    {
     "name": "stdout",
     "output_type": "stream",
     "text": [
      "Yes, \"ice\" is here!\n"
     ]
    }
   ],
   "source": [
    "#(2b) Does 'Supercalifragilisticexpialidocious' contain 'ice'?\n",
    "\n",
    "#assign your variables\n",
    "mystring='Supercalifragilisticexpialidocious'\n",
    "x='ice'\n",
    "\n",
    "#evaluate if \"ice\" is in \"Supercalifragilisticexpialidocious\" \n",
    "if x in mystring:\n",
    "    print('Yes, \"ice\" is here!')\n",
    "else:\n",
    "    print('Nope, \"ice\" is not here')\n"
   ]
  },
  {
   "cell_type": "code",
   "execution_count": null,
   "id": "bd45301c",
   "metadata": {},
   "outputs": [],
   "source": [
    "#Question 2c: "
   ]
  },
  {
   "cell_type": "code",
   "execution_count": 17,
   "id": "a8f5bb4f",
   "metadata": {},
   "outputs": [
    {
     "name": "stdout",
     "output_type": "stream",
     "text": [
      "Supercalifragilisticexpialidocious - length = 34\n",
      "Honorificabilitudinitatibus - length = 27\n",
      "Bababadalgharaghtakamminarronnkonn - length = 34\n",
      "\n",
      "It is a tie between Supercalifragilisticexpialidocious and Bababadalgharaghtakamminarronnkonn\n"
     ]
    }
   ],
   "source": [
    "#(2c) Find the longest word\n",
    "\n",
    "#Assign the long words into a list,  print out the length of each word, then indicate which is longest\n",
    "mylist=['Supercalifragilisticexpialidocious', 'Honorificabilitudinitatibus', \n",
    "'Bababadalgharaghtakamminarronnkonn']\n",
    "print(mylist[0], '- length =',len(mylist[0]))\n",
    "print(mylist[1], '- length =',len(mylist[1]))\n",
    "print(mylist[2], '- length =',len(mylist[2]))\n",
    "print()\n",
    "print('It is a tie between', mylist[0], 'and', mylist[2])"
   ]
  },
  {
   "cell_type": "code",
   "execution_count": null,
   "id": "daca7060",
   "metadata": {},
   "outputs": [],
   "source": [
    "#Question 2d:"
   ]
  },
  {
   "cell_type": "code",
   "execution_count": 22,
   "id": "ff589dd7",
   "metadata": {},
   "outputs": [
    {
     "name": "stdout",
     "output_type": "stream",
     "text": [
      "The composer that comes first in the dictionary is: Bartok\n",
      "The composer that comes last in the dictionary is: Buxtehude\n"
     ]
    }
   ],
   "source": [
    "#(2d) Which composer comes first?\n",
    "\n",
    "#Assign the composers into a list of strings, then sort the list, then read the first and last list elements\n",
    "composers=['Berlioz', 'Borodin', 'Brian', 'Bartok', 'Bellini', 'Buxtehude', 'Bernstein']\n",
    "composers.sort()\n",
    "print('The composer that comes first in the dictionary is:', composers[0])\n",
    "print('The composer that comes last in the dictionary is:', composers[6])\n"
   ]
  },
  {
   "cell_type": "code",
   "execution_count": null,
   "id": "8b70af63",
   "metadata": {},
   "outputs": [],
   "source": [
    "#Question 3:"
   ]
  },
  {
   "cell_type": "code",
   "execution_count": 40,
   "id": "c132c511",
   "metadata": {},
   "outputs": [
    {
     "name": "stdout",
     "output_type": "stream",
     "text": [
      "Enter the length of the first side of a triangle in cm:2\n",
      "Enter the length of the second side of the triangle in cm:2\n",
      "Enter the length of the third side of the triangle in cm:2\n",
      "3.0\n",
      "The area using Heron's Formula is: 1.7320508075688772 cm squared.\n"
     ]
    }
   ],
   "source": [
    "#(3) Function TrianleArea\n",
    "\n",
    "#get the sides of triangle as float values\n",
    "a=float(input('Enter the length of the first side of a triangle in cm:'))\n",
    "b=float(input('Enter the length of the second side of the triangle in cm:'))\n",
    "c=float(input('Enter the length of the third side of the triangle in cm:'))\n",
    "\n",
    "#compute the s value\n",
    "s=(a + b +c)/2\n",
    "print(s)\n",
    "\n",
    "#compute Heron's Area and display\n",
    "import math\n",
    "heronArea=math.sqrt(s*(s-a)*(s-b)*(s-c))\n",
    "print('The area using Heron\\'s Formula is:', heronArea, 'cm squared.')"
   ]
  },
  {
   "cell_type": "code",
   "execution_count": null,
   "id": "8056a350",
   "metadata": {},
   "outputs": [],
   "source": [
    "#Question 4:  "
   ]
  },
  {
   "cell_type": "code",
   "execution_count": 8,
   "id": "f2b200ea",
   "metadata": {},
   "outputs": [
    {
     "name": "stdout",
     "output_type": "stream",
     "text": [
      "Test Data :\n",
      "Input the number of integer elements to be stored in the array :5\n",
      "Now input 5 integer elements for the array :\n",
      "Element: 25\n",
      "Element: 47\n",
      "Element: 42\n",
      "Element: 56\n",
      "Element: 32\n",
      "The Even elements are: \n",
      "[42, 56, 32]\n",
      "The Odd elements are: \n",
      "[25, 47]\n"
     ]
    }
   ],
   "source": [
    "#Print positive and negative elements of a user's input-array.\n",
    "\n",
    "#Get user intergers:\n",
    "print('Test Data :')\n",
    "numElements= int(input('Input the number of integer elements to be stored in the array :'))\n",
    "print('Now input', numElements, 'integer elements for the array :')\n",
    "\n",
    "i=0\n",
    "Lst_posInt = []\n",
    "Lst_negInt=[]\n",
    "while (i < numElements) :\n",
    "    #Append postive int's and neg int's into their own arrays:\n",
    "    element=int(input('Element: ')) \n",
    "    if element%2==0 :\n",
    "        Lst_posInt.append(element)\n",
    "    else :\n",
    "        Lst_negInt.append(element)\n",
    "    i+=1\n",
    "\n",
    "#print postive array only if there were positive int's:\n",
    "if len(Lst_posInt)>=1 :\n",
    "    print('The Even elements are: ')\n",
    "    print(Lst_posInt)else :\n",
    "    print(\"There were no positive elements.\")\n",
    "#print negative array only if there were negative int's:\n",
    "if len(Lst_negInt) >= 1 :\n",
    "    print('The Odd elements are: ')\n",
    "    print(Lst_negInt)\n",
    "else :\n",
    "    print(\"There were no negative elements.\")"
   ]
  },
  {
   "cell_type": "code",
   "execution_count": null,
   "id": "23e1dae0",
   "metadata": {},
   "outputs": [],
   "source": [
    "#Problem 5(a) "
   ]
  },
  {
   "cell_type": "code",
   "execution_count": 1,
   "id": "53f6216f",
   "metadata": {},
   "outputs": [
    {
     "name": "stdout",
     "output_type": "stream",
     "text": [
      "For (x,y)=(1,1) and (x1,y1)=(0,0) and (x2,y2)=(2,3) :\n",
      "True\n",
      "For (x,y)=(-1,-1) and (x1,y1)=(0,0) and (x2,y2)=(2,3) :\n",
      "False\n"
     ]
    }
   ],
   "source": [
    "#Question 5a) Test if a point lies within a rectangle\n",
    "\n",
    "#this function tests that x lies between x1 and x2, and y lies between y1 and y2\n",
    "def inside(x,y,x1,y1,x2,y2) :\n",
    "    if (x1 <= x <= x2) and (y1 <= y <= y2) :\n",
    "        print('True')\n",
    "    else :\n",
    "        print('False')\n",
    "\n",
    "#print results:\n",
    "print('For (x,y)=(1,1) and (x1,y1)=(0,0) and (x2,y2)=(2,3) :')\n",
    "inside(1,1,0,0,2,3)\n",
    "print('For (x,y)=(-1,-1) and (x1,y1)=(0,0) and (x2,y2)=(2,3) :')\n",
    "inside(-1,-1,0,0,2,3)"
   ]
  },
  {
   "cell_type": "code",
   "execution_count": null,
   "id": "31c53d84",
   "metadata": {},
   "outputs": [],
   "source": [
    "#Problem 5(b)"
   ]
  },
  {
   "cell_type": "code",
   "execution_count": 2,
   "id": "8b8228e3",
   "metadata": {},
   "outputs": [
    {
     "name": "stdout",
     "output_type": "stream",
     "text": [
      "False\n",
      "False, point (1,1) does Not lie on both rectangles.\n"
     ]
    }
   ],
   "source": [
    "#Question 5b) Test if a point lies within 2 rectangles\n",
    "\n",
    "#this function tests that x lies between x1 and x2, and y lies between y1 and y2\n",
    "def inside(x,y,x1,y1,x2,y2) :\n",
    "    if (x1 <= x <= x2) and (y1 <= y <= y2) :\n",
    "        print('True')\n",
    "    else :\n",
    "        print('False')\n",
    "\n",
    "#test if the coordinates are in both rectangles by running the function inside for each rectangle\n",
    "if (inside(1,1,0.3,0.5,1.1,0.7) and inside(1,1,0.5,0.2,1.1,2)) :\n",
    "    print('True, point (1,1) lies on both rectangles.')\n",
    "else :\n",
    "    print('False, point (1,1) does Not lie on both rectangles.')"
   ]
  },
  {
   "cell_type": "code",
   "execution_count": null,
   "id": "31941253",
   "metadata": {},
   "outputs": [],
   "source": [
    "#Problem 6:"
   ]
  },
  {
   "cell_type": "code",
   "execution_count": 9,
   "id": "b116dda0",
   "metadata": {},
   "outputs": [
    {
     "name": "stdout",
     "output_type": "stream",
     "text": [
      "Please enter a word:happy\n",
      "happy in piglatin is: \n",
      "appyhay"
     ]
    }
   ],
   "source": [
    "#Turn a word into pig-Latin\n",
    "\n",
    "vowels='aeiou'\n",
    "\n",
    "def pig(word) :\n",
    "    tempList=[]\n",
    "    #if the word starts with a consonant, read the word's 1st char into first_char, and the rest into a temporary new_word\n",
    "    if word[0] not in vowels :\n",
    "        first_char=word[:1]\n",
    "        new_word=word[1:]\n",
    "        \n",
    "        #for every char in the temporary new_word, load it into a list tempList\n",
    "        for char in new_word :\n",
    "            tempList.append(char)\n",
    "        #now append the first consonant char of the user's word to the end of the list\n",
    "        tempList.append(first_char)\n",
    "        #then append 'ay' after the consonant, at the end of the list\n",
    "        tempList.append('ay')\n",
    "        \n",
    "        print(word,'in piglatin is: ')\n",
    "        for letter in tempList :\n",
    "            print(letter, end='')\n",
    "            \n",
    "    #else if the word starts with a vowel, read the user's word's into a temporary list\n",
    "    else :\n",
    "        for char in word :\n",
    "            tempList.append(char)\n",
    "        #then append 'way' at the end of the list\n",
    "        tempList.append('way')\n",
    "        \n",
    "        print(word,'in piglatin is: ')\n",
    "        for letter in tempList :\n",
    "            print(letter, end='')\n",
    "\n",
    "\n",
    "word=input('Please enter a word:')\n",
    "pig(word)\n",
    "\n",
    "#These are some websites I used in helping me understand how lists appending works :\n",
    "#https://realpython.com/python-append/#:~:text=append()%20will%20place%20new%20items%20in%20the%20available%20space.&text=Lists%20are%20sequences%20that%20can,finally%20a%20floating%2Dpoint%20number."
   ]
  },
  {
   "cell_type": "code",
   "execution_count": null,
   "id": "42e1cde6",
   "metadata": {},
   "outputs": [],
   "source": [
    "#The above output shows how my answer code to Question 6 works when the input word starts with a consonant."
   ]
  },
  {
   "cell_type": "code",
   "execution_count": 10,
   "id": "dc6b4bb6",
   "metadata": {},
   "outputs": [
    {
     "name": "stdout",
     "output_type": "stream",
     "text": [
      "Please enter a word:enter\n",
      "enter in piglatin is: \n",
      "enterway"
     ]
    }
   ],
   "source": [
    "#Turn a word into pig-Latin\n",
    "\n",
    "vowels='aeiou'\n",
    "\n",
    "def pig(word) :\n",
    "    tempList=[]\n",
    "    #if the word starts with a consonant, read the word's 1st char into a first_char, and the rest into a temporary new_word\n",
    "    if word[0] not in vowels :\n",
    "        first_char=word[:1]\n",
    "        new_word=word[1:]\n",
    "        \n",
    "        #for every char in the temporary new_word, load it into a list tempList\n",
    "        for char in new_word :\n",
    "            tempList.append(char)\n",
    "        #now append the first consonant char of the user's word to the end of the list\n",
    "        tempList.append(first_char)\n",
    "        #then append 'ay' after the consonant, at the end of the list\n",
    "        tempList.append('ay')\n",
    "        \n",
    "        print(word,'in piglatin is: ')\n",
    "        for letter in tempList :\n",
    "            print(letter, end='')\n",
    "            \n",
    "    #else if the word starts with a vowel, read the user's word's into a temporary list\n",
    "    else :\n",
    "        for char in word :\n",
    "            tempList.append(char)\n",
    "        #then append 'way' at the end of the list\n",
    "        tempList.append('way')\n",
    "        \n",
    "        print(word,'in piglatin is: ')\n",
    "        for letter in tempList :\n",
    "            print(letter, end='')\n",
    "\n",
    "\n",
    "word=input('Please enter a word:')\n",
    "pig(word)"
   ]
  },
  {
   "cell_type": "code",
   "execution_count": null,
   "id": "737828a7",
   "metadata": {},
   "outputs": [],
   "source": [
    "#The above output shows how my answer code to Question 6 works when the input word starts with a Vowel."
   ]
  },
  {
   "cell_type": "code",
   "execution_count": null,
   "id": "3aaf7bfd",
   "metadata": {},
   "outputs": [],
   "source": [
    "#Question 7"
   ]
  },
  {
   "cell_type": "code",
   "execution_count": 6,
   "id": "23a73c7e",
   "metadata": {},
   "outputs": [
    {
     "name": "stdout",
     "output_type": "stream",
     "text": [
      "File contents of bloodtype1.txt are:\n",
      "['AB', 'AB', 'B', 'O', 'A', 'A', 'AB', 'O', 'AB', 'A', 'O', 'O', 'A', 'A', 'A', 'O', 'O', 'O', 'AB', 'O', 'A', 'A', 'A', 'A', 'A', 'AB', 'AB', 'A', 'AB', 'O', 'AB', 'O', 'A', 'O', 'O', 'O', 'AB', 'O', 'AB', 'AB', 'AB', 'A', 'A', 'O']\n",
      "There are 15 patients of blood type A\n",
      "There are 1 patients of blood type B\n",
      "There are 13 patients of blood type AB\n",
      "There are 15 patients of blood type O\n",
      "There are 0 patients of blood type OO\n"
     ]
    }
   ],
   "source": [
    "#Function that reads file and reports number of patients in each bloodtype.\n",
    "\n",
    "#create a tuple that holds all the possible bloodtypes\n",
    "possible_types = ('A', 'B', 'AB','O','OO')\n",
    "\n",
    "#a function that opens a file, stores values into a list, and then counts the various patient bloodtypes\n",
    "def Count_bloodtypes(filename):\n",
    "    #open the file for reading\n",
    "    infile=open('bloodtype1.txt','r')\n",
    "    #store the file contents into a temporay string\n",
    "    temp_string=infile.read()\n",
    "    infile.close()\n",
    "    #read each \"word\" in the temporary string, into a list\n",
    "    patient_bloodtypes = temp_string.split()\n",
    "    print('File contents of bloodtype1.txt are:')\n",
    "    print(patient_bloodtypes)\n",
    "    \n",
    "    #evaluate the list of patient bloodtypes against the tuple of all possible bloodtypes\n",
    "    for type in possible_types :\n",
    "        counter = patient_bloodtypes.count(type)\n",
    "        print('There are', counter,'patients of blood type',type)\n",
    "\n",
    "Count_bloodtypes('bloodtype1.txt')\n"
   ]
  },
  {
   "cell_type": "code",
   "execution_count": null,
   "id": "0c8c7a04",
   "metadata": {},
   "outputs": [],
   "source": [
    "#Question 8"
   ]
  },
  {
   "cell_type": "code",
   "execution_count": 17,
   "id": "4176e230",
   "metadata": {},
   "outputs": [
    {
     "name": "stdout",
     "output_type": "stream",
     "text": [
      "Enter a 3-letter currency string in CAPS to perform currency conversion: EUR\n",
      "What amount of money would you like to convert from curr_string to USD: 100\n",
      "\n",
      "122.96544\n"
     ]
    }
   ],
   "source": [
    "#Convert currencies into US dollars\n",
    "\n",
    "#initialize variables and open the file for reading\n",
    "currencies_dict={}\n",
    "lineList=[]\n",
    "infile=open('currencies.txt','r')\n",
    "mydict1={}\n",
    "mydict2={}\n",
    "\n",
    "# Read each line in the file, and split into a key and value, and store those key-value pairs into a dictionary \n",
    "for line in infile :\n",
    "    key=line[0:3]\n",
    "    value=line[4:]\n",
    "    valuelist=value.split()\n",
    "    #read each line into a temp dictionary, mydict1. Then update mydict2 with each set in mydict1, as the loop runs.\n",
    "    mydict1={key:valuelist}\n",
    "    mydict2.update(mydict1)\n",
    "    \n",
    "#curconv takes user input and prints out converted exchange in US currency :\n",
    "def curconv(curr_string,amount) :\n",
    "    exch_rate=float\n",
    "    exch_info_lst=[]\n",
    "    #obtain the dictionary key-value set with the appropriate Currency info :\n",
    "    mydict2.get(curr_string)\n",
    "    \n",
    "    #read the exchange rate from the dictionary set :\n",
    "    exch_rate=float(mydict2.get(curr_string)[0]) \n",
    "    \n",
    "    #compute and print the exchange value in US dollars:\n",
    "    US_currency=amount*exch_rate\n",
    "    print()\n",
    "    print(US_currency)\n",
    "    \n",
    "#get user input and store in variables:    \n",
    "curr_string=input('Enter a 3-letter currency string in CAPS to perform currency conversion: ')\n",
    "amount_string=input('What amount of money would you like to convert from curr_string to USD: ')\n",
    "amount=float(amount_string)\n",
    "\n",
    "curconv(curr_string,amount)\n"
   ]
  },
  {
   "cell_type": "code",
   "execution_count": null,
   "id": "c0e389cf",
   "metadata": {},
   "outputs": [],
   "source": [
    "#Question 9"
   ]
  },
  {
   "cell_type": "code",
   "execution_count": null,
   "id": "f690185b",
   "metadata": {},
   "outputs": [],
   "source": [
    "#Identifying Exception Errors :\n",
    "\n",
    "(a) Trying to add incompatible variables, as in adding 6 + ‘a’ : causes a TypeError exception\n",
    "\n",
    "(b) Referring to the 12th item of a list that has only 10 items : causes an IndexError exception\n",
    "\n",
    "(c) Using a value that is out of range for a function’s input, such as calling math.sqrt(-1.0) : causes a ValueError exception\n",
    "\n",
    "(d) Using an undeclared variable, such as print(x) when x has not been defined : causes a NameError exception\n",
    "\n",
    "(e) Trying to open a file that does not exist, such as mistyping the file name or looking in the wrong directory : causes an \n",
    "      IOError exception\n"
   ]
  },
  {
   "cell_type": "code",
   "execution_count": null,
   "id": "c284a49f",
   "metadata": {},
   "outputs": [],
   "source": [
    "#Question 10"
   ]
  },
  {
   "cell_type": "code",
   "execution_count": 45,
   "id": "1461d64c",
   "metadata": {},
   "outputs": [
    {
     "name": "stdout",
     "output_type": "stream",
     "text": [
      "Please enter some text and we will count the frequencies of each letter of the alphabet :The quick red fox got bored and went home.\n",
      "\n",
      "[1, 1, 1, 3, 5, 1, 1, 2, 1, 0, 1, 0, 1, 2, 4, 0, 1, 2, 0, 2, 1, 0, 1, 1, 0, 0] ,\n"
     ]
    }
   ],
   "source": [
    "# Encryption-Letter Frequencies\n",
    "\n",
    "letters='abcdefghijklmnopqrstuvwxyz'\n",
    "message=''\n",
    "message=input('Please enter some text and we will count the frequencies of each letter of the alphabet :')\n",
    "\n",
    "def frequencies(somemessage):\n",
    "    list_of_char=[] #a list to store user input\n",
    "    list_of_lettercounts=[] #a list to keep count of how many times each alphabetical letter appeared in user input.\n",
    "    \n",
    "    #read the user's message into a List of Characters:\n",
    "    for char in somemessage :\n",
    "        list_of_char.append(char)\n",
    "        \n",
    "    #Evaluate the number of times each alphabetical letter appears in the user's message:    \n",
    "    for item in letters :\n",
    "        count=list_of_char.count(item)\n",
    "        list_of_lettercounts.append(count) \n",
    "    \n",
    "    #Print out the frequencies of each letter:\n",
    "    print()\n",
    "    print(list_of_lettercounts,',')\n",
    "       \n",
    "frequencies(message)        \n",
    "        \n",
    "#These are some websites I used in helping me understand errors during debugging, and how lists appending works :\n",
    "#https://rollbar.com/blog/python-indexerror/#:~:text=The%20IndexError%3A%20list%20index%20out,index%20range%20of%20the%20list.\n",
    "#https://statisticsglobe.com/append-integer-list-python#:~:text=This%20example%20explains%20how%20to,existing%20list%20via%20the%20%2B%20symbol.&text=The%20concatenation%20works%20differently%20from%20the%20append()%20and%20extend()%20methods."
   ]
  },
  {
   "cell_type": "code",
   "execution_count": null,
   "id": "8ca18b99",
   "metadata": {},
   "outputs": [],
   "source": []
  }
 ],
 "metadata": {
  "kernelspec": {
   "display_name": "Python 3 (ipykernel)",
   "language": "python",
   "name": "python3"
  },
  "language_info": {
   "codemirror_mode": {
    "name": "ipython",
    "version": 3
   },
   "file_extension": ".py",
   "mimetype": "text/x-python",
   "name": "python",
   "nbconvert_exporter": "python",
   "pygments_lexer": "ipython3",
   "version": "3.11.4"
  }
 },
 "nbformat": 4,
 "nbformat_minor": 5
}
